{
 "cells": [
  {
   "cell_type": "markdown",
   "metadata": {},
   "source": [
    "**Python divides the operators into the following groups:**\n",
    "\n",
    "1. *Arithmetic Operators*  \n",
    "2. *Assignment Operators*  \n",
    "3. *Comparison Operators*  \n",
    "4. *Logical Operators*\n",
    "5. *Identity Operators*\n",
    "6. *Membership Operators*  \n",
    "7. *Bitwise Operators* \n",
    "\n"
   ]
  },
  {
   "cell_type": "code",
   "execution_count": null,
   "metadata": {},
   "outputs": [],
   "source": [
    "!pip install pandas"
   ]
  },
  {
   "cell_type": "code",
   "execution_count": 14,
   "metadata": {},
   "outputs": [
    {
     "name": "stdout",
     "output_type": "stream",
     "text": [
      "Total tables found: 8\n",
      "  Operator            Name Example    Try it\n",
      "0        +        Addition   x + y  Try it »\n",
      "1        -     Subtraction   x - y  Try it »\n",
      "2        *  Multiplication   x * y  Try it »\n",
      "3        /        Division   x / y  Try it »\n",
      "4        %         Modulus   x % y  Try it »\n",
      "5       **  Exponentiation  x ** y  Try it »\n",
      "6       //  Floor division  x // y  Try it »\n"
     ]
    }
   ],
   "source": [
    "import pandas as pd\n",
    "\n",
    "# Ensure lxml is installed\n",
    "# !pip install lxml\n",
    "\n",
    "# Read tables from the webpage\n",
    "tables = pd.read_html('https://www.w3schools.com/python/python_operators.asp')\n",
    "\n",
    "# Check how many tables are found\n",
    "print(f\"Total tables found: {len(tables)}\")\n",
    "\n",
    "# Display the first table\n",
    "# if tables:\n",
    "#     print(tables[0])\n",
    "# else:\n",
    "#     print(\"No tables found on the page.\")\n",
    "\n",
    "print(tables[0])\n"
   ]
  },
  {
   "cell_type": "code",
   "execution_count": 17,
   "metadata": {},
   "outputs": [
    {
     "name": "stdout",
     "output_type": "stream",
     "text": [
      "   Operator        Example         Same As    Try it\n",
      "0         =          x = 5           x = 5  Try it »\n",
      "1        +=         x += 3       x = x + 3  Try it »\n",
      "2        -=         x -= 3       x = x - 3  Try it »\n",
      "3        *=         x *= 3       x = x * 3  Try it »\n",
      "4        /=         x /= 3       x = x / 3  Try it »\n",
      "5        %=         x %= 3       x = x % 3  Try it »\n",
      "6       //=        x //= 3      x = x // 3  Try it »\n",
      "7       **=        x **= 3      x = x ** 3  Try it »\n",
      "8        &=         x &= 3       x = x & 3  Try it »\n",
      "9        |=         x |= 3       x = x | 3  Try it »\n",
      "10       ^=         x ^= 3       x = x ^ 3  Try it »\n",
      "11      >>=        x >>= 3      x = x >> 3  Try it »\n",
      "12      <<=        x <<= 3      x = x << 3  Try it »\n",
      "13       :=  print(x := 3)  x = 3 print(x)  Try it »\n"
     ]
    }
   ],
   "source": [
    "print(tables[1])"
   ]
  },
  {
   "cell_type": "code",
   "execution_count": 24,
   "metadata": {},
   "outputs": [
    {
     "name": "stdout",
     "output_type": "stream",
     "text": [
      "8\n",
      "11\n"
     ]
    }
   ],
   "source": [
    "a = 5\n",
    "print(a := a+3)\n",
    "a += 3\n",
    "\n",
    "print(a)"
   ]
  }
 ],
 "metadata": {
  "kernelspec": {
   "display_name": "Python 3",
   "language": "python",
   "name": "python3"
  },
  "language_info": {
   "codemirror_mode": {
    "name": "ipython",
    "version": 3
   },
   "file_extension": ".py",
   "mimetype": "text/x-python",
   "name": "python",
   "nbconvert_exporter": "python",
   "pygments_lexer": "ipython3",
   "version": "3.12.3"
  }
 },
 "nbformat": 4,
 "nbformat_minor": 2
}
