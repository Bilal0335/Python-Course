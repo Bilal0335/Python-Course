{
 "cells": [
  {
   "cell_type": "code",
   "execution_count": 1,
   "metadata": {},
   "outputs": [
    {
     "name": "stdout",
     "output_type": "stream",
     "text": [
      "Index: 0, Fruit: apple\n",
      "Index: 1, Fruit: banana\n",
      "Index: 2, Fruit: cherry\n"
     ]
    }
   ],
   "source": [
    "fruits = [\"apple\", \"banana\", \"cherry\"]\n",
    "\n",
    "for index, fruit in enumerate(fruits):\n",
    "    print(f\"Index: {index}, Fruit: {fruit}\")\n"
   ]
  },
  {
   "cell_type": "code",
   "execution_count": 2,
   "metadata": {},
   "outputs": [
    {
     "name": "stdout",
     "output_type": "stream",
     "text": [
      "Index: 1, Fruit: apple\n",
      "Index: 2, Fruit: banana\n",
      "Index: 3, Fruit: cherry\n"
     ]
    }
   ],
   "source": [
    "fruits = [\"apple\", \"banana\", \"cherry\"]\n",
    "\n",
    "for index, fruit in enumerate(fruits,start=1):\n",
    "    print(f\"Index: {index}, Fruit: {fruit}\")\n"
   ]
  },
  {
   "cell_type": "code",
   "execution_count": 3,
   "metadata": {},
   "outputs": [
    {
     "name": "stdout",
     "output_type": "stream",
     "text": [
      "(0, 'apple')\n",
      "(1, 'banana')\n",
      "(2, 'cherry')\n"
     ]
    }
   ],
   "source": [
    "fruits = [\"apple\", \"banana\", \"cherry\"]\n",
    "\n",
    "for item in enumerate(fruits):\n",
    "    print(item)\n",
    "\n"
   ]
  },
  {
   "cell_type": "code",
   "execution_count": 4,
   "metadata": {},
   "outputs": [
    {
     "name": "stdout",
     "output_type": "stream",
     "text": [
      "📌 Your Tasks:\n",
      "1. Coding\n",
      "2. Gym\n",
      "3. Reading\n"
     ]
    }
   ],
   "source": [
    "tasks = [\"Coding\", \"Gym\", \"Reading\"]\n",
    "\n",
    "print(\"📌 Your Tasks:\")\n",
    "for i, task in enumerate(tasks, start=1):\n",
    "    print(f\"{i}. {task}\")\n",
    "\n"
   ]
  },
  {
   "cell_type": "code",
   "execution_count": null,
   "metadata": {},
   "outputs": [],
   "source": [
    "fruits = [\"apple\", \"banana\", \"cherry\"]\n",
    "\n",
    "for i in range(len(fruits)):\n",
    "    print(i, fruits[i])\n"
   ]
  },
  {
   "cell_type": "code",
   "execution_count": 8,
   "metadata": {},
   "outputs": [
    {
     "name": "stdout",
     "output_type": "stream",
     "text": [
      "0 apple\n",
      "1 banana\n",
      "2 cherry\n"
     ]
    }
   ],
   "source": [
    "fruits = [\"apple\", \"banana\", \"cherry\"]\n",
    "\n",
    "for i,fruit in enumerate(fruits):\n",
    "    print(i, fruit)\n"
   ]
  },
  {
   "cell_type": "code",
   "execution_count": 10,
   "metadata": {},
   "outputs": [
    {
     "name": "stdout",
     "output_type": "stream",
     "text": [
      "Index: 1, Name: Bilal, Age: 20\n",
      "Index: 2, Name: Ali, Age: 22\n",
      "Index: 3, Name: Aisha, Age: 19\n"
     ]
    }
   ],
   "source": [
    "students = [(\"Bilal\", 20), (\"Ali\", 22), (\"Aisha\", 19)]\n",
    "\n",
    "for index,(name,age) in enumerate(students,start=1):\n",
    "    print(f\"Index: {index}, Name: {name}, Age: {age}\")"
   ]
  },
  {
   "cell_type": "code",
   "execution_count": 15,
   "metadata": {},
   "outputs": [
    {
     "name": "stdout",
     "output_type": "stream",
     "text": [
      "h\n",
      "e\n",
      "l\n",
      "l\n",
      "o\n"
     ]
    }
   ],
   "source": [
    "text:str = 'hello'\n",
    "\n",
    "for _,char in enumerate(text):\n",
    "    print(char)"
   ]
  },
  {
   "cell_type": "code",
   "execution_count": 28,
   "metadata": {},
   "outputs": [
    {
     "name": "stdout",
     "output_type": "stream",
     "text": [
      "['hello,bilal,hussain']\n",
      "hello,bilal,hussain\n",
      "hello,bilal,hussain\n"
     ]
    }
   ],
   "source": [
    "text:str = 'hello,bilal,hussain'\n",
    "\n",
    "word = text.split(\" \")\n",
    "print(word)\n",
    "\n",
    "joins = ' '.join(word)\n",
    "print(joins.replace(\"_\",\"\"))\n",
    "print(joins)"
   ]
  },
  {
   "cell_type": "code",
   "execution_count": 36,
   "metadata": {},
   "outputs": [
    {
     "name": "stdout",
     "output_type": "stream",
     "text": [
      "['one', 'two', 'three', 'four-five-six-seven-eight-nine-ten']\n",
      "one-two-three-four-five-six-seven-eight-nine-ten\n"
     ]
    }
   ],
   "source": [
    "nume_digit = 'one-two-three-four-five-six-seven-eight-nine-ten'\n",
    "num_digit = nume_digit.split('-',3)\n",
    "print(num_digit)\n",
    "\n",
    "num_join = '-'.join(num_digit)\n",
    "print(num_join)"
   ]
  },
  {
   "cell_type": "code",
   "execution_count": 39,
   "metadata": {},
   "outputs": [
    {
     "name": "stdout",
     "output_type": "stream",
     "text": [
      "['hello,', 'i', 'am', 'fine.']\n",
      "hello, i am fine.\n"
     ]
    }
   ],
   "source": [
    "user_input = input(\"Enter a string: \")\n",
    "\n",
    "word_list = user_input.strip().split(\" \")\n",
    "\n",
    "print(word_list)\n",
    "\n",
    "clean_word = ' '.join(word_list)\n",
    "\n",
    "print(clean_word)"
   ]
  },
  {
   "cell_type": "code",
   "execution_count": null,
   "metadata": {},
   "outputs": [],
   "source": [
    "def format_sentence(sent:str):\n",
    "    word = sent.strip().split(\" \")\n",
    "    \n",
    "    format = ' '.join(word)\n",
    "    \n",
    "    return format\n"
   ]
  }
 ],
 "metadata": {
  "kernelspec": {
   "display_name": "Python 3",
   "language": "python",
   "name": "python3"
  },
  "language_info": {
   "codemirror_mode": {
    "name": "ipython",
    "version": 3
   },
   "file_extension": ".py",
   "mimetype": "text/x-python",
   "name": "python",
   "nbconvert_exporter": "python",
   "pygments_lexer": "ipython3",
   "version": "3.12.3"
  }
 },
 "nbformat": 4,
 "nbformat_minor": 2
}
