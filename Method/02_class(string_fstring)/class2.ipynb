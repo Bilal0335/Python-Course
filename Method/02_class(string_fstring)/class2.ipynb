{
 "cells": [
  {
   "cell_type": "markdown",
   "metadata": {},
   "source": [
    "### Class 2: String Formatting and Definitions in Python with Static Typing"
   ]
  },
  {
   "cell_type": "code",
   "execution_count": 2,
   "metadata": {},
   "outputs": [
    {
     "name": "stdout",
     "output_type": "stream",
     "text": [
      "Hello, Python\n"
     ]
    }
   ],
   "source": [
    "name:str = \"Python\"\n",
    "\n",
    "print(f\"Hello, {name}\")"
   ]
  },
  {
   "cell_type": "code",
   "execution_count": 3,
   "metadata": {},
   "outputs": [
    {
     "name": "stdout",
     "output_type": "stream",
     "text": [
      "The number is: 55\n"
     ]
    }
   ],
   "source": [
    "number:int = 55\n",
    "\n",
    "print(f\"The number is: {number}\")"
   ]
  },
  {
   "cell_type": "markdown",
   "metadata": {},
   "source": [
    "## string data type in python\n"
   ]
  },
  {
   "cell_type": "code",
   "execution_count": 4,
   "metadata": {},
   "outputs": [
    {
     "name": "stdout",
     "output_type": "stream",
     "text": [
      "Bilal\n"
     ]
    }
   ],
   "source": [
    "#boundaries\n",
    "# \"string\" ,'string' ,'''string''',\"\"\"String\"\"\"\n",
    "\n",
    "name:str = \"Bilal\"\n",
    "print(name)\n"
   ]
  },
  {
   "cell_type": "code",
   "execution_count": 7,
   "metadata": {},
   "outputs": [
    {
     "name": "stdout",
     "output_type": "stream",
     "text": [
      "GIAIC Student Card \n",
      "Name's Bilal\n"
     ]
    }
   ],
   "source": [
    "message:str = \"GIAIC Student Card \\nName's Bilal\"\n",
    "print(message)"
   ]
  },
  {
   "cell_type": "code",
   "execution_count": 8,
   "metadata": {},
   "outputs": [
    {
     "name": "stdout",
     "output_type": "stream",
     "text": [
      "GIAIC \"Student\" Card \n",
      "Name Bilal\n"
     ]
    }
   ],
   "source": [
    "message:str = 'GIAIC \"Student\" Card \\nName Bilal'\n",
    "print(message)"
   ]
  },
  {
   "cell_type": "code",
   "execution_count": 9,
   "metadata": {},
   "outputs": [
    {
     "name": "stdout",
     "output_type": "stream",
     "text": [
      "GIAIC \"Student\" Card \n",
      "Name's Bilal\n"
     ]
    }
   ],
   "source": [
    "# convert any special character into simple character, place \\ before character\n",
    "message:str =\"GIAIC \\\"Student\\\" Card \\nName\\'s Bilal\"\n",
    "print(message)"
   ]
  },
  {
   "cell_type": "code",
   "execution_count": null,
   "metadata": {},
   "outputs": [
    {
     "data": {
      "text/plain": [
       "'ab'"
      ]
     },
     "execution_count": 10,
     "metadata": {},
     "output_type": "execute_result"
    }
   ],
   "source": [
    "\"a\" + \"b\"\n",
    "# concate krta hy agr dono string  hy\n"
   ]
  },
  {
   "cell_type": "code",
   "execution_count": null,
   "metadata": {},
   "outputs": [],
   "source": [
    "# boundries\n",
    "# 'string text', \"string text \", '''string text''', \"\"\" string\"\"\"\n",
    "# `string text` type script\n",
    "\n",
    "name : str = 'Muhammad Bilal'\n",
    "fname : str = \"Muhammad Ali\"\n",
    "education : str = \"Master in Data Science\"\n",
    "age : int = 20\n",
    "\n",
    "card : str = \"PIAIC Student Card\\nStudent Name: \" + name + \"\\nAge:\" + age\n",
    "\n",
    "print(card)"
   ]
  },
  {
   "cell_type": "markdown",
   "metadata": {},
   "source": [
    "### \"\\\\\" line continue"
   ]
  },
  {
   "cell_type": "code",
   "execution_count": 11,
   "metadata": {},
   "outputs": [
    {
     "name": "stdout",
     "output_type": "stream",
     "text": [
      "24\n"
     ]
    }
   ],
   "source": [
    "print(7 +\\\n",
    "     8 +\\\n",
    "     9)"
   ]
  },
  {
   "cell_type": "code",
   "execution_count": null,
   "metadata": {},
   "outputs": [],
   "source": [
    "\n",
    "# boundries\n",
    "# 'string text', \"string text \", '''string text''', \"\"\" string\"\"\"\n",
    "# `string text` type script\n",
    "\n",
    "name: str = 'Bilal'  # Updated name\n",
    "fname: str = \"Muhammad Aslam\"\n",
    "education: str = \"Master in Data Science\"\n",
    "age: int = 30\n",
    "\n",
    "card: str = \"GIAIC Student Card\\nStudent Name: \" + name + \\\n",
    "    \"\\nAge: \" + str(age) + \"\\n\" + \\\n",
    "    \"Education: \" + education\n",
    "\n",
    "print(card)\n"
   ]
  },
  {
   "cell_type": "markdown",
   "metadata": {},
   "source": [
    "### Define multiline string \"\"\" \"\"\", ''' '''"
   ]
  },
  {
   "cell_type": "code",
   "execution_count": 12,
   "metadata": {},
   "outputs": [
    {
     "name": "stdout",
     "output_type": "stream",
     "text": [
      "\n",
      "GIAIC Student Card\n",
      "Student Name : \n",
      "Father's Name: \n",
      "Age: ......\n",
      "Education : .....\n",
      "\n"
     ]
    }
   ],
   "source": [
    "name: str = 'Bilal'  # Updated name\n",
    "fname: str = \"Muhammad Aslam\"\n",
    "education: str = \"Master in Data Science\"\n",
    "age: int = 30\n",
    "\n",
    "\n",
    "\n",
    "card : str = \"\"\"\n",
    "GIAIC Student Card\n",
    "Student Name : \n",
    "Father's Name: \n",
    "Age: ......\n",
    "Education : .....\n",
    "\"\"\"\n",
    "\n",
    "print(card)"
   ]
  },
  {
   "cell_type": "markdown",
   "metadata": {},
   "source": [
    "###  F-string pthon"
   ]
  },
  {
   "cell_type": "code",
   "execution_count": 13,
   "metadata": {},
   "outputs": [
    {
     "name": "stdout",
     "output_type": "stream",
     "text": [
      "\n",
      "GIAIC Student Card\n",
      "Student Name : Bilal\n",
      "Father's Name: Muhammad Aslam \n",
      "Age: 30\n",
      "Education : Master in Data Science\n",
      "\n"
     ]
    }
   ],
   "source": [
    "name: str = 'Bilal'  # Updated name\n",
    "fname: str = \"Muhammad Aslam\"\n",
    "education: str = \"Master in Data Science\"\n",
    "age: int = 30\n",
    "\n",
    "\n",
    "\n",
    "card : str = f\"\"\"\n",
    "GIAIC Student Card\n",
    "Student Name : {name}\n",
    "Father's Name: {fname} \n",
    "Age: {age}\n",
    "Education : {education}\n",
    "\"\"\"\n",
    "\n",
    "print(card)"
   ]
  },
  {
   "cell_type": "code",
   "execution_count": null,
   "metadata": {},
   "outputs": [
    {
     "name": "stdout",
     "output_type": "stream",
     "text": [
      "\n",
      "GIAIC Student Card\n",
      "Student Name : Bilal\n",
      "Father's Name: Muhammad Aslam \n",
      "Age: 30\n",
      "Education : Master in Data Science\n",
      "\n"
     ]
    }
   ],
   "source": [
    "name: str = 'Bilal' \n",
    "fname: str = \"Muhammad Aslam\"\n",
    "education: str = \"Master in Data Science\"\n",
    "age: int = 30\n",
    "\n",
    "\n",
    "\n",
    "card : str = f'''\n",
    "GIAIC Student Card\n",
    "Student Name : {name}\n",
    "Father's Name: {fname} \n",
    "Age: {age}\n",
    "Education : {education}\n",
    "'''\n",
    "\n",
    "print(card)"
   ]
  },
  {
   "cell_type": "markdown",
   "metadata": {},
   "source": [
    "### F-string and Jinja style"
   ]
  },
  {
   "cell_type": "code",
   "execution_count": 16,
   "metadata": {},
   "outputs": [
    {
     "data": {
      "text/plain": [
       "'\\nstudent name Bilal\\n'"
      ]
     },
     "execution_count": 16,
     "metadata": {},
     "output_type": "execute_result"
    }
   ],
   "source": [
    "f\"\"\"\n",
    "student name {name}\n",
    "\"\"\""
   ]
  },
  {
   "cell_type": "code",
   "execution_count": 17,
   "metadata": {},
   "outputs": [
    {
     "data": {
      "text/plain": [
       "'\\nstudent name {{name}}\\n'"
      ]
     },
     "execution_count": 17,
     "metadata": {},
     "output_type": "execute_result"
    }
   ],
   "source": [
    "# Jinja Style\n",
    "\"\"\"\n",
    "student name {{name}}\n",
    "\"\"\""
   ]
  },
  {
   "cell_type": "code",
   "execution_count": null,
   "metadata": {},
   "outputs": [],
   "source": [
    "name: str = 'Bilal'  # Updated name\n",
    "fname: str = \"Muhammad Aslam\"\n",
    "education: str = \"Master in Data Science\"\n",
    "age: int = 30\n",
    "\n",
    "\n",
    "\n",
    "card : str = f\"\"\"\n",
    "GIAIC Student Card\n",
    "Student Name : %s\n",
    "Father's Name: %s\n",
    "Age: %d\n",
    "Education : %s\n",
    "\"\"\" % (name,fname,age,education)\n",
    "\n",
    "print(card)"
   ]
  },
  {
   "cell_type": "code",
   "execution_count": null,
   "metadata": {},
   "outputs": [],
   "source": [
    "pi = 3.14159\n",
    "\n",
    "print(\"The value of pi is %f\" % pi)\n",
    "print(\"The value of pi is %.2f\" % pi)"
   ]
  },
  {
   "cell_type": "code",
   "execution_count": 25,
   "metadata": {},
   "outputs": [
    {
     "data": {
      "text/plain": [
       "['capitalize',\n",
       " 'casefold',\n",
       " 'center',\n",
       " 'count',\n",
       " 'encode',\n",
       " 'endswith',\n",
       " 'expandtabs',\n",
       " 'find',\n",
       " 'format',\n",
       " 'format_map',\n",
       " 'index',\n",
       " 'isalnum',\n",
       " 'isalpha',\n",
       " 'isascii',\n",
       " 'isdecimal',\n",
       " 'isdigit',\n",
       " 'isidentifier',\n",
       " 'islower',\n",
       " 'isnumeric',\n",
       " 'isprintable',\n",
       " 'isspace',\n",
       " 'istitle',\n",
       " 'isupper',\n",
       " 'join',\n",
       " 'ljust',\n",
       " 'lower',\n",
       " 'lstrip',\n",
       " 'maketrans',\n",
       " 'partition',\n",
       " 'removeprefix',\n",
       " 'removesuffix',\n",
       " 'replace',\n",
       " 'rfind',\n",
       " 'rindex',\n",
       " 'rjust',\n",
       " 'rpartition',\n",
       " 'rsplit',\n",
       " 'rstrip',\n",
       " 'split',\n",
       " 'splitlines',\n",
       " 'startswith',\n",
       " 'strip',\n",
       " 'swapcase',\n",
       " 'title',\n",
       " 'translate',\n",
       " 'upper',\n",
       " 'zfill']"
      ]
     },
     "execution_count": 25,
     "metadata": {},
     "output_type": "execute_result"
    }
   ],
   "source": [
    "\n",
    "[i for i in dir(str)  if \"__\" not in i]\n"
   ]
  },
  {
   "cell_type": "code",
   "execution_count": 29,
   "metadata": {},
   "outputs": [
    {
     "data": {
      "text/plain": [
       "\"It's value a = 7 and value b = 8\""
      ]
     },
     "execution_count": 29,
     "metadata": {},
     "output_type": "execute_result"
    }
   ],
   "source": [
    "a = 7\n",
    "b = 8\n",
    "# {} place holder\n",
    "#                   0                1          0 1\n",
    "\"It\\'s value a = {} and value b = {}\".format(a,b)"
   ]
  },
  {
   "cell_type": "code",
   "execution_count": 31,
   "metadata": {},
   "outputs": [
    {
     "name": "stdout",
     "output_type": "stream",
     "text": [
      "\n",
      "GIAIC Student Card\n",
      "Student Name : Bilal\n",
      "Father's Name: Muhammad Aslam\n",
      "Age: Master in Data Science\n",
      "Education : 30\n",
      "\n"
     ]
    }
   ],
   "source": [
    "name: str = 'Bilal'  # Updated name\n",
    "fname: str = \"Muhammad Aslam\"\n",
    "education: str = \"Master in Data Science\"\n",
    "age: int = 30\n",
    "\n",
    "\n",
    "\n",
    "card : str = \"\"\"\n",
    "GIAIC Student Card\n",
    "Student Name : {}\n",
    "Father's Name: {}\n",
    "Age: {}\n",
    "Education : {}\n",
    "\"\"\".format(name,fname,education,age)\n",
    "\n",
    "print(card)"
   ]
  },
  {
   "cell_type": "code",
   "execution_count": 34,
   "metadata": {},
   "outputs": [
    {
     "name": "stdout",
     "output_type": "stream",
     "text": [
      "\n",
      "GIAIC Student Card\n",
      "Student Name : Bilal\n",
      "Father's Name: Muhammad Aslam\n",
      "Age: 30\n",
      "Education : Master in Data Science\n",
      "\n"
     ]
    }
   ],
   "source": [
    "name: str = 'Bilal'  # Updated name\n",
    "fname: str = \"Muhammad Aslam\"\n",
    "education: str = \"Master in Data Science\"\n",
    "age: int = 30\n",
    "\n",
    "\n",
    "\n",
    "card : str = \"\"\"\n",
    "GIAIC Student Card\n",
    "Student Name : {1}\n",
    "Father's Name: {0}\n",
    "Age: {2}\n",
    "Education : {3}\n",
    "\"\"\".format(fname,name,age,education)\n",
    "#            0    1    2      3 \n",
    "print(card)"
   ]
  },
  {
   "cell_type": "code",
   "execution_count": 35,
   "metadata": {},
   "outputs": [
    {
     "name": "stdout",
     "output_type": "stream",
     "text": [
      "\n",
      "GIAIC Student Card\n",
      "Student Name : Bilal\n",
      "Father's Name: Muhammad Aslam\n",
      "Age: 30\n",
      "Education : Master in Data Science\n",
      "\n"
     ]
    }
   ],
   "source": [
    "name: str = 'Bilal'  # Updated name\n",
    "fname: str = \"Muhammad Aslam\"\n",
    "education: str = \"Master in Data Science\"\n",
    "age: int = 30\n",
    "\n",
    "\n",
    "\n",
    "card : str = \"\"\"\n",
    "GIAIC Student Card\n",
    "Student Name : {a}\n",
    "Father's Name: {b}\n",
    "Age: {c}\n",
    "Education : {d}\n",
    "\"\"\".format(a=name,b=fname,d=education,c=age)\n",
    "\n",
    "print(card)"
   ]
  },
  {
   "cell_type": "code",
   "execution_count": null,
   "metadata": {},
   "outputs": [],
   "source": [
    "def generate_card(name, fname, age, education):\n",
    "    card = f\"\"\"\n",
    "    -------------------------------\n",
    "    GIAIC Student Card\n",
    "    Student Name : {name}\n",
    "    Father's Name: {fname}\n",
    "    Age: {age}\n",
    "    Education : {education}\n",
    "    -------------------------------\n",
    "    \"\"\"\n",
    "    return card\n",
    "\n",
    "students = int(input(\"How many students? \"))\n",
    "\n",
    "with open(\"student_cards.txt\", \"w\") as file:\n",
    "    for i in range(students):\n",
    "        name = input(\"Enter Student Name: \")\n",
    "        fname = input(\"Enter Father's Name: \")\n",
    "        age = input(\"Enter Age: \")\n",
    "        education = input(\"Enter Education: \")\n",
    "\n",
    "        card = generate_card(name, fname, age, education)\n",
    "        print(card)\n",
    "        file.write(card + \"\\n\")\n",
    "    \n",
    "    print(\"All student cards saved successfully!\")\n"
   ]
  },
  {
   "cell_type": "code",
   "execution_count": 44,
   "metadata": {},
   "outputs": [
    {
     "name": "stdout",
     "output_type": "stream",
     "text": [
      "My name is Bilal\n",
      "83\n"
     ]
    }
   ],
   "source": [
    "std_code:str = f\"\"\"\n",
    "print(\"My name is Bilal\")\n",
    "a = 6\n",
    "b = 77\n",
    "print(a + b)\n",
    "\"\"\"\n",
    "\n",
    "exec(std_code)"
   ]
  },
  {
   "cell_type": "code",
   "execution_count": null,
   "metadata": {},
   "outputs": [],
   "source": [
    "\n",
    "a:list[str] = [i for i in dir(str)  if \"__\" not in i]\n",
    "for item in a:\n",
    "    print(item)\n",
    "print(len(a))\n"
   ]
  },
  {
   "cell_type": "code",
   "execution_count": 7,
   "metadata": {},
   "outputs": [
    {
     "name": "stdout",
     "output_type": "stream",
     "text": [
      "Bilal hussain\n"
     ]
    }
   ],
   "source": [
    "name:str = \"bilal hussain\"\n",
    "print(name.capitalize())"
   ]
  },
  {
   "cell_type": "code",
   "execution_count": 8,
   "metadata": {},
   "outputs": [
    {
     "name": "stdout",
     "output_type": "stream",
     "text": [
      "Bilal Hussain\n"
     ]
    }
   ],
   "source": [
    "name:str = \"bilal hussain\"\n",
    "print(name.title())"
   ]
  },
  {
   "cell_type": "code",
   "execution_count": 9,
   "metadata": {},
   "outputs": [
    {
     "name": "stdout",
     "output_type": "stream",
     "text": [
      "bilal hussain\n"
     ]
    }
   ],
   "source": [
    "name:str = \"BILAL hussain\"\n",
    "print(name.lower())"
   ]
  },
  {
   "cell_type": "code",
   "execution_count": 11,
   "metadata": {},
   "outputs": [
    {
     "name": "stdout",
     "output_type": "stream",
     "text": [
      "Bilal Hussain          \n"
     ]
    }
   ],
   "source": [
    "name:str = \"            BILAL hussain          \"\n",
    "print(name.lstrip().title())"
   ]
  },
  {
   "cell_type": "code",
   "execution_count": 12,
   "metadata": {},
   "outputs": [
    {
     "name": "stdout",
     "output_type": "stream",
     "text": [
      "            Bilal Hussain\n"
     ]
    }
   ],
   "source": [
    "name:str = \"            BILAL hussain          \"\n",
    "print(name.rstrip().title())"
   ]
  },
  {
   "cell_type": "code",
   "execution_count": 13,
   "metadata": {},
   "outputs": [
    {
     "name": "stdout",
     "output_type": "stream",
     "text": [
      "Bilal Hussain\n"
     ]
    }
   ],
   "source": [
    "name:str = \"            BILAL hussain          \"\n",
    "print(name.strip().title())"
   ]
  },
  {
   "cell_type": "code",
   "execution_count": null,
   "metadata": {},
   "outputs": [],
   "source": [
    "name:str = \"            BILAL hussain          \"\n",
    "print(name.rstrip().title())"
   ]
  },
  {
   "cell_type": "code",
   "execution_count": 24,
   "metadata": {},
   "outputs": [
    {
     "name": "stdout",
     "output_type": "stream",
     "text": [
      "bilal hussain\n"
     ]
    }
   ],
   "source": [
    "name:str = 'bilal'\n",
    "last_name:str = ' hussain'\n",
    "full_name:str = name + last_name\n",
    "\n",
    "print(full_name)"
   ]
  },
  {
   "cell_type": "code",
   "execution_count": 26,
   "metadata": {},
   "outputs": [
    {
     "name": "stdout",
     "output_type": "stream",
     "text": [
      "My name is Bilal Hussain\n"
     ]
    }
   ],
   "source": [
    "name:str = 'bilal'\n",
    "last_name:str = 'hussain'\n",
    "print(f\"My name is {name.title()} {last_name.title()}\")"
   ]
  },
  {
   "cell_type": "code",
   "execution_count": 14,
   "metadata": {},
   "outputs": [],
   "source": [
    "import re   # regular expression"
   ]
  },
  {
   "cell_type": "code",
   "execution_count": 17,
   "metadata": {},
   "outputs": [
    {
     "data": {
      "text/plain": [
       "'               bilal       hussain         '"
      ]
     },
     "metadata": {},
     "output_type": "display_data"
    },
    {
     "data": {
      "text/plain": [
       "' bilal hussain '"
      ]
     },
     "metadata": {},
     "output_type": "display_data"
    }
   ],
   "source": [
    "name : str = \"               bilal       hussain         \"\n",
    "\n",
    "display(name)\n",
    "\n",
    "name1:str = re.sub(' {2,100}',' ',name)\n",
    "display(name1)"
   ]
  },
  {
   "cell_type": "code",
   "execution_count": 22,
   "metadata": {},
   "outputs": [
    {
     "data": {
      "text/plain": [
       "'               bilal       hussain         '"
      ]
     },
     "metadata": {},
     "output_type": "display_data"
    },
    {
     "data": {
      "text/plain": [
       "'bilal hussain'"
      ]
     },
     "metadata": {},
     "output_type": "display_data"
    }
   ],
   "source": [
    "name : str = \"               bilal       hussain         \"\n",
    "\n",
    "display(name)\n",
    "\n",
    "name1:str = re.sub(' {2,100}',' ',name).strip()\n",
    "display(name1)"
   ]
  },
  {
   "cell_type": "code",
   "execution_count": 21,
   "metadata": {},
   "outputs": [
    {
     "name": "stdout",
     "output_type": "stream",
     "text": [
      "Before: '          Bilal       Hussain         '\n",
      "After: 'Bilal Hussain'\n"
     ]
    }
   ],
   "source": [
    "name = \"          Bilal       Hussain         \"\n",
    "\n",
    "'''\n",
    "#! 🛠 Explanation\n",
    "split(): Yeh string ko spaces ke basis par tod deta hai, aur extra spaces automatically remove ho jati hain.\n",
    "\" \".join(...): Yeh words ko single space ke sath dobara jod deta hai.\n",
    "'''\n",
    "\n",
    "\n",
    "# Remove extra spaces\n",
    "name1 = \" \".join(name.split())\n",
    "\n",
    "print(\"Before:\", repr(name))\n",
    "print(\"After:\", repr(name1))\n"
   ]
  },
  {
   "cell_type": "code",
   "execution_count": 34,
   "metadata": {},
   "outputs": [
    {
     "name": "stdout",
     "output_type": "stream",
     "text": [
      "Name:\n",
      "\t\n",
      "\t Bilal\n"
     ]
    }
   ],
   "source": [
    "'''\n",
    "\\t --> tab spaces\n",
    "\\n --> new line\n",
    "\\b --> backspace remove\n",
    "'''\n",
    "\n",
    "name : str = \"bILAL\"\n",
    "print(\"Name:\\n\\t\\n\\t\\t\\t\\b\\b\",name.title())"
   ]
  },
  {
   "cell_type": "code",
   "execution_count": 39,
   "metadata": {},
   "outputs": [
    {
     "name": "stdout",
     "output_type": "stream",
     "text": [
      "URL after removing prefix: facebook.com/\n",
      "URL after removing suffix: http://facebook.com\n"
     ]
    }
   ],
   "source": [
    "nostrach_url: str = 'http://facebook.com/'\n",
    "\n",
    "# Use removeprefix() and removesuffix() to clean URL\n",
    "removePrefix = nostrach_url.removeprefix('http://')\n",
    "removeSuffix = nostrach_url.removesuffix('/')\n",
    "\n",
    "print(f\"URL after removing prefix: {removePrefix}\")\n",
    "print(f\"URL after removing suffix: {removeSuffix}\")\n"
   ]
  },
  {
   "cell_type": "code",
   "execution_count": 38,
   "metadata": {},
   "outputs": [
    {
     "name": "stdout",
     "output_type": "stream",
     "text": [
      "Clean URL: facebook.com\n"
     ]
    }
   ],
   "source": [
    "nostrach_url: str = 'http://facebook.com/'\n",
    "\n",
    "# Remove both prefix and suffix\n",
    "clean_url = nostrach_url.removeprefix('http://').removesuffix('/')\n",
    "\n",
    "print(f\"Clean URL: {clean_url}\")\n"
   ]
  }
 ],
 "metadata": {
  "kernelspec": {
   "display_name": "Python 3",
   "language": "python",
   "name": "python3"
  },
  "language_info": {
   "codemirror_mode": {
    "name": "ipython",
    "version": 3
   },
   "file_extension": ".py",
   "mimetype": "text/x-python",
   "name": "python",
   "nbconvert_exporter": "python",
   "pygments_lexer": "ipython3",
   "version": "3.12.3"
  }
 },
 "nbformat": 4,
 "nbformat_minor": 2
}
