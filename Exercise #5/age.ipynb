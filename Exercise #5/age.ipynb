{
 "cells": [
  {
   "cell_type": "code",
   "execution_count": 1,
   "metadata": {},
   "outputs": [
    {
     "name": "stdout",
     "output_type": "stream",
     "text": [
      "You will be 90 years old in: 70 years, 4 months, 20 days, 2 hours, 15 minutes, and 35 seconds.\n"
     ]
    }
   ],
   "source": [
    "from datetime import datetime, timedelta\n",
    "\n",
    "# Get user input for Date of Birth\n",
    "dob_str = input(\"Enter your Date of Birth (YYYY-MM-DD): \")\n",
    "\n",
    "# Convert input string to datetime object\n",
    "dob = datetime.strptime(dob_str, \"%Y-%m-%d\")\n",
    "\n",
    "# Calculate the target date (90 years old)\n",
    "target_age = 90\n",
    "target_date = dob.replace(year=dob.year + target_age)\n",
    "\n",
    "# Get the current date and time\n",
    "current_datetime = datetime.now()\n",
    "\n",
    "# Calculate the remaining time\n",
    "remaining_time = target_date - current_datetime\n",
    "\n",
    "# Extract time components\n",
    "years_left = remaining_time.days // 365\n",
    "months_left = (remaining_time.days % 365) // 30\n",
    "days_left = (remaining_time.days % 365) % 30\n",
    "hours_left, remainder = divmod(remaining_time.seconds, 3600)\n",
    "minutes_left, seconds_left = divmod(remainder, 60)\n",
    "\n",
    "# Display the results\n",
    "print(f\"You will be 90 years old in: {years_left} years, {months_left} months, {days_left} days, {hours_left} hours, {minutes_left} minutes, and {seconds_left} seconds.\")\n"
   ]
  }
 ],
 "metadata": {
  "kernelspec": {
   "display_name": "Python 3",
   "language": "python",
   "name": "python3"
  },
  "language_info": {
   "codemirror_mode": {
    "name": "ipython",
    "version": 3
   },
   "file_extension": ".py",
   "mimetype": "text/x-python",
   "name": "python",
   "nbconvert_exporter": "python",
   "pygments_lexer": "ipython3",
   "version": "3.12.3"
  }
 },
 "nbformat": 4,
 "nbformat_minor": 2
}
